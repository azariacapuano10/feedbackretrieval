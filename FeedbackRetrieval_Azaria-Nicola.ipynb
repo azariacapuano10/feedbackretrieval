{
 "cells": [
  {
   "cell_type": "code",
   "execution_count": 1,
   "id": "exciting-toolbox",
   "metadata": {},
   "outputs": [],
   "source": [
    "from googlesearch import search "
   ]
  },
  {
   "cell_type": "code",
   "execution_count": 2,
   "id": "painted-scottish",
   "metadata": {},
   "outputs": [],
   "source": [
    "query = \"amazon.it/8871527747\""
   ]
  },
  {
   "cell_type": "code",
   "execution_count": 3,
   "id": "removable-complement",
   "metadata": {},
   "outputs": [
    {
     "name": "stdout",
     "output_type": "stream",
     "text": [
      "https://www.amazon.it/povero-Quello-ricchi-insegnano-denaro/dp/8871527747\n"
     ]
    }
   ],
   "source": [
    "for j in search(query, tld=\"co.in\", num=1, stop=1, pause=2):\n",
    "    print(j)"
   ]
  },
  {
   "cell_type": "code",
   "execution_count": null,
   "id": "organizational-cocktail",
   "metadata": {},
   "outputs": [],
   "source": []
  }
 ],
 "metadata": {
  "kernelspec": {
   "display_name": "Python 3",
   "language": "python",
   "name": "python3"
  },
  "language_info": {
   "codemirror_mode": {
    "name": "ipython",
    "version": 3
   },
   "file_extension": ".py",
   "mimetype": "text/x-python",
   "name": "python",
   "nbconvert_exporter": "python",
   "pygments_lexer": "ipython3",
   "version": "3.6.9"
  }
 },
 "nbformat": 4,
 "nbformat_minor": 5
}
