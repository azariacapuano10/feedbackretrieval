{
 "cells": [
  {
   "cell_type": "code",
   "execution_count": 1,
   "id": "sunset-rubber",
   "metadata": {},
   "outputs": [],
   "source": [
    "from googlesearch import search\n",
    "from selectorlib import Extractor\n",
    "import requests\n",
    "import random\n",
    "import pandas as pd"
   ]
  },
  {
   "cell_type": "code",
   "execution_count": 2,
   "id": "executed-reconstruction",
   "metadata": {},
   "outputs": [],
   "source": [
    "def google_query(isbn):\n",
    "    \"\"\"This function receive a book's ISBN and return an amazon link by looking on Google\"\"\"\n",
    "    \n",
    "    query = \"https://www.amazon.it\"+\"/\"+isbn+\"/\"\n",
    "    googleResults = []\n",
    "    for result in search(query,tld=\"co.in\",num=1,stop=1, pause=2):\n",
    "        googleResults.append(result)\n",
    "\n",
    "    return googleResults[0]"
   ]
  },
  {
   "cell_type": "code",
   "execution_count": 3,
   "id": "heavy-audit",
   "metadata": {},
   "outputs": [],
   "source": [
    "def get_HTML(url):\n",
    "    \"\"\"This function return the HTML of a given link as a string\"\"\"\n",
    "    rand = float(random.randint(1,100)) # We need to randomaize the request\n",
    "    headers = {\n",
    "        'dnt': '1',\n",
    "        'upgrade-insecure-requests': '1',\n",
    "        'user-agent': 'Mozilla/' + str(rand)+ 'Macintosh; Intel Mac OS X 10_15_4) AppleWebKit/537.36 (KHTML, like Gecko)' + 'Chrome/'+ str(rand) + 'Safari/'+str(rand),\n",
    "        'accept': 'text/html,application/xhtml+xml,application/xml;q=0.9,image/webp,image/apng,*/*;q=0.8,application/signed-exchange;v=b3;q=0.9',\n",
    "        'sec-fetch-site': 'same-origin',\n",
    "        'sec-fetch-mode': 'navigate',\n",
    "        'sec-fetch-user': '?1',\n",
    "        'sec-fetch-dest': 'document',\n",
    "        'referer': 'https://www.amazon.com/',\n",
    "        'accept-language': 'en-GB,en-US;q=0.9,en;q=0.8',\n",
    "    }\n",
    "    \n",
    "    return requests.get(url, headers=headers).text"
   ]
  },
  {
   "cell_type": "code",
   "execution_count": 4,
   "id": "welsh-soundtrack",
   "metadata": {},
   "outputs": [
    {
     "name": "stdout",
     "output_type": "stream",
     "text": [
      "https://www.amazon.it/povero-Quello-ricchi-insegnano-denaro/dp/8871527747\n"
     ]
    }
   ],
   "source": [
    "ISBN = '8871527747'\n",
    "amazon_link = google_query(ISBN)\n",
    "print(amazon_link)"
   ]
  },
  {
   "cell_type": "code",
   "execution_count": 5,
   "id": "remarkable-partnership",
   "metadata": {},
   "outputs": [],
   "source": [
    "book_webPage = get_HTML(amazon_link)\n",
    "#print(book_webPage)"
   ]
  },
  {
   "cell_type": "code",
   "execution_count": 6,
   "id": "necessary-generation",
   "metadata": {},
   "outputs": [
    {
     "name": "stdout",
     "output_type": "stream",
     "text": [
      "\n",
      "-TITLE: Padre ricco padre povero. Quello che i ricchi insegnano ai figli sul denaro\n",
      "\n",
      "-PRICE: 11,87 €\n",
      "\n",
      "-RATING_AVERAGE: 4,6 su 5 stelle\n",
      "\n",
      "-NUMBER_OF_REVIEWS: 2.368 voti\n"
     ]
    }
   ],
   "source": [
    "#Create an object extractor based on the CSS \"selectors\" specified into \"data_selectors.yml\"\n",
    "e = Extractor.from_yaml_file('./data_selectors.yml')\n",
    "data = e.extract(book_webPage)\n",
    "\n",
    "#Visualize Book's data:\n",
    "for k,v in data.items():\n",
    "    if k != 'link_to_all_reviews':\n",
    "        print(f\"\\n-{k.upper()}: {v}\")"
   ]
  }
 ],
 "metadata": {
  "kernelspec": {
   "display_name": "Python 3",
   "language": "python",
   "name": "python3"
  },
  "language_info": {
   "codemirror_mode": {
    "name": "ipython",
    "version": 3
   },
   "file_extension": ".py",
   "mimetype": "text/x-python",
   "name": "python",
   "nbconvert_exporter": "python",
   "pygments_lexer": "ipython3",
   "version": "3.6.9"
  }
 },
 "nbformat": 4,
 "nbformat_minor": 5
}
