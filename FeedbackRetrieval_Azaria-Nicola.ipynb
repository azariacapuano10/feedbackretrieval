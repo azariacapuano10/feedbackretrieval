{
 "cells": [
  {
   "cell_type": "code",
   "execution_count": 1,
   "id": "sunset-rubber",
   "metadata": {},
   "outputs": [],
   "source": [
    "from googlesearch import search\n",
    "from selectorlib import Extractor\n",
    "from bs4 import BeautifulSoup\n",
    "import requests\n",
    "import random\n",
    "import pandas as pd\n",
    "from pprint import pprint"
   ]
  },
  {
   "cell_type": "code",
   "execution_count": 2,
   "id": "executed-reconstruction",
   "metadata": {},
   "outputs": [],
   "source": [
    "def google_query(isbn):\n",
    "    \"\"\"This function receive a book's ISBN and return an amazon link by looking on Google\"\"\"\n",
    "    \n",
    "    query = \"https://www.amazon.it\"+\"/\"+isbn+\"/\"\n",
    "    googleResults = []\n",
    "    for result in search(query,tld=\"co.in\",num=1,stop=1, pause=2):\n",
    "        googleResults.append(result)\n",
    "\n",
    "    return googleResults[0]"
   ]
  },
  {
   "cell_type": "code",
   "execution_count": 3,
   "id": "heavy-audit",
   "metadata": {},
   "outputs": [],
   "source": [
    "def get_HTML(url):\n",
    "    \"\"\"This function return the HTML of a given link as a string\"\"\"\n",
    "    rand = float(random.randint(1,100)) # We need to randomaize the request\n",
    "    headers = {\n",
    "        'dnt': '1',\n",
    "        'upgrade-insecure-requests': '1',\n",
    "        'user-agent': 'Mozilla/' + str(rand)+ 'Macintosh; Intel Mac OS X 10_15_4) AppleWebKit/537.36 (KHTML, like Gecko)' + 'Chrome/'+ str(rand) + 'Safari/'+str(rand),\n",
    "        'accept': 'text/html,application/xhtml+xml,application/xml;q=0.9,image/webp,image/apng,*/*;q=0.8,application/signed-exchange;v=b3;q=0.9',\n",
    "        'sec-fetch-site': 'same-origin',\n",
    "        'sec-fetch-mode': 'navigate',\n",
    "        'sec-fetch-user': '?1',\n",
    "        'sec-fetch-dest': 'document',\n",
    "        'referer': 'https://www.amazon.com/',\n",
    "        'accept-language': 'en-GB,en-US;q=0.9,en;q=0.8',\n",
    "    }\n",
    "    \n",
    "    return requests.get(url, headers=headers).text"
   ]
  },
  {
   "cell_type": "code",
   "execution_count": 4,
   "id": "chubby-casting",
   "metadata": {},
   "outputs": [],
   "source": [
    "def get_reviewText(rawText,date,votes):\n",
    "    \"\"\"This function separates the review text from date and votes that are included inside the rawText\"\"\"\n",
    "    \n",
    "    review = rawText.split(date)[1].split(votes)[0].split('Leggi di più')[0] \n",
    "    \n",
    "    return review[1:-1]"
   ]
  },
  {
   "cell_type": "code",
   "execution_count": 5,
   "id": "welsh-soundtrack",
   "metadata": {},
   "outputs": [
    {
     "name": "stdout",
     "output_type": "stream",
     "text": [
      "https://www.amazon.it/Programmare-Python-dummies-Bonaventura-Bello/dp/8820395592\n"
     ]
    }
   ],
   "source": [
    "#ISBN = '8871527747'\n",
    "ISBN = '8820395592'\n",
    "#ISBN = '1492041130'\n",
    "amazon_link = google_query(ISBN)\n",
    "print(amazon_link)"
   ]
  },
  {
   "cell_type": "code",
   "execution_count": 6,
   "id": "remarkable-partnership",
   "metadata": {},
   "outputs": [],
   "source": [
    "book_webPage = get_HTML(amazon_link)\n",
    "#print(book_webPage)"
   ]
  },
  {
   "cell_type": "code",
   "execution_count": 7,
   "id": "measured-sunset",
   "metadata": {},
   "outputs": [
    {
     "name": "stdout",
     "output_type": "stream",
     "text": [
      "https://www.amazon.it/Programmare-Python-dummies-Bonaventura-Bello/product-reviews/8820395592/ref=cm_cr_dp_d_show_all_btm?ie=UTF8&reviewerType=all_reviews\n"
     ]
    }
   ],
   "source": [
    "# Get the link of the all the reviews\n",
    "soup = BeautifulSoup(book_webPage,'html.parser')\n",
    "links = soup.find_all('a', {\"data-hook\":\"see-all-reviews-link-foot\"})\n",
    "allReviews_link = 'https://www.amazon.it' + links[0].get(\"href\")\n",
    "print(allReviews_link)"
   ]
  },
  {
   "cell_type": "code",
   "execution_count": 8,
   "id": "historical-medication",
   "metadata": {},
   "outputs": [],
   "source": [
    "#Get the web page of the book's reviews\n",
    "reviewsPage = get_HTML(allReviews_link)"
   ]
  },
  {
   "cell_type": "code",
   "execution_count": 9,
   "id": "necessary-generation",
   "metadata": {},
   "outputs": [],
   "source": [
    "#Create an object extractor based on the CSS \"selectors\" specified into \"data_selectors.yml\"\n",
    "e = Extractor.from_yaml_file('./data_selectors.yml')\n",
    "data = e.extract(book_webPage)\n",
    "#print(data)\n",
    "\n",
    "#Create an object extractor based on the CSS \"selectors\" specified into \"review_selectors.yml\"\n",
    "e_rev = Extractor.from_yaml_file('./review_selectors.yml')\n",
    "dataReviews = e_rev.extract(reviewsPage)\n",
    "#print(dataReviews)   "
   ]
  },
  {
   "cell_type": "code",
   "execution_count": 10,
   "id": "sized-valuable",
   "metadata": {},
   "outputs": [],
   "source": [
    "#Parsing Reviews data:\n",
    "### Best Positive Review Data:\n",
    "positiveReview_rowText = dataReviews['best_rw'] # Contain all the text inside the positive review \"DIV\"\n",
    "positiveReview_title = dataReviews['title_positive']\n",
    "positiveReview_date = dataReviews['date_positive']\n",
    "positiveReview_votes = dataReviews['review_votes_positive']\n",
    "\n",
    "### Worst Critical Review Data: \n",
    "criticalReview_rowText = dataReviews['worst_rw'] # Contain all the text inside the critical review \"DIV\"\n",
    "criticalReview_title = dataReviews['title_negative']\n",
    "criticalReview_date = dataReviews['date_negative']\n",
    "criticalReview_votes = dataReviews['review_votes_negative']\n",
    "\n",
    "positiveReview_text = get_reviewText(positiveReview_rowText, positiveReview_date, positiveReview_votes)\n",
    "criticalReview_text = get_reviewText(criticalReview_rowText, criticalReview_date, criticalReview_votes)"
   ]
  },
  {
   "cell_type": "code",
   "execution_count": 11,
   "id": "enclosed-blond",
   "metadata": {},
   "outputs": [
    {
     "name": "stdout",
     "output_type": "stream",
     "text": [
      "\n",
      "-TITLE: Programmare con Python for dummies\n",
      "\n",
      "-PRICE: 23,65 €\n",
      "\n",
      "-RATING_AVERAGE: 4,5 su 5 stelle\n",
      "\n",
      "-NUMBER_OF_REVIEWS: 55 voti\n",
      "______________________________________________________________________________________\n",
      "\n",
      "-[Positive Review]\n",
      "\n",
      "-DATE: Recensito in Italia il 10 dicembre 2020\n",
      "\n",
      "-REVIEW_TITLE: Semplice ma completo per inesperti appunto\n",
      "\n",
      "-REVIEW_VOTES: 2 persone l'hanno trovato utile\n",
      "\n",
      "-REVIEW_CONTENT-------------------------------------------------------------------\n",
      "Molto soddisfatta. Per principianti aiuta molto e non lasciatevi ingannare “for dummies” perché significa semplicemente per inesperti. È fatto bene, con spiegazioni ed esempi. Un’ottima base per iniziare molto bene.\n",
      "------------------------------------------------------------------------------------\n",
      "\n",
      "\n",
      "\n",
      "-[Critical Review]\n",
      "\n",
      "-DATE: Recensito in Italia il 25 gennaio 2021\n",
      "\n",
      "-REVIEW_TITLE: Grigio?!!\n",
      "\n",
      "-REVIEW_VOTES: 5 persone l'hanno trovato utile\n",
      "\n",
      "-REVIEW_CONTENT-------------------------------------------------------------------\n",
      "Ma miseriaccia! Ho cinquanta anni! Come cavolo pensate che uno legga se stampate in grigio su bianco?! TUTTO IL LIBRO! Nero! Ve lo ricordate? NERO! Se avete fisime ambientaliste pubblicate ebook accidentaccio!\n",
      "------------------------------------------------------------------------------------\n",
      "\n",
      "\n",
      "\n"
     ]
    }
   ],
   "source": [
    "#Visualize Book's data:\n",
    "for k,v in data.items():\n",
    "    if k != 'link_to_all_reviews':\n",
    "        print(f\"\\n-{k.upper()}: {v}\")\n",
    "\n",
    "print(\"______________________________________________________________________________________\")\n",
    "#Visualize Book's Positive Revie\n",
    "print(\"\\n-[Positive Review]\")\n",
    "print(f\"\\n-DATE: {positiveReview_date}\")\n",
    "print(f\"\\n-REVIEW_TITLE: {positiveReview_title}\")\n",
    "print(f\"\\n-REVIEW_VOTES: {positiveReview_votes}\")\n",
    "print(\"\\n-REVIEW_CONTENT-------------------------------------------------------------------\")\n",
    "print(positiveReview_text)\n",
    "print(\"------------------------------------------------------------------------------------\\n\")\n",
    "#Visualize Book's Critical Review:\n",
    "print(\"\\n\\n-[Critical Review]\")\n",
    "print(f\"\\n-DATE: {criticalReview_date}\")\n",
    "print(f\"\\n-REVIEW_TITLE: {criticalReview_title}\")\n",
    "print(f\"\\n-REVIEW_VOTES: {criticalReview_votes}\")\n",
    "print(\"\\n-REVIEW_CONTENT-------------------------------------------------------------------\")\n",
    "print(criticalReview_text)\n",
    "print(\"------------------------------------------------------------------------------------\\n\")\n",
    "\n",
    "print(\"\\n\")"
   ]
  }
 ],
 "metadata": {
  "kernelspec": {
   "display_name": "Python 3",
   "language": "python",
   "name": "python3"
  },
  "language_info": {
   "codemirror_mode": {
    "name": "ipython",
    "version": 3
   },
   "file_extension": ".py",
   "mimetype": "text/x-python",
   "name": "python",
   "nbconvert_exporter": "python",
   "pygments_lexer": "ipython3",
   "version": "3.6.9"
  }
 },
 "nbformat": 4,
 "nbformat_minor": 5
}
